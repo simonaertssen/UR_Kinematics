{
 "cells": [
  {
   "cell_type": "code",
   "execution_count": 9,
   "metadata": {},
   "outputs": [
    {
     "data": {
      "text/plain": [
       "['pillow', 'html']"
      ]
     },
     "execution_count": 9,
     "metadata": {},
     "output_type": "execute_result"
    }
   ],
   "source": [
    "# For the control:\n",
    "import numpy as np\n",
    "\n",
    "# For the 3D animation:\n",
    "from IPython.display import HTML\n",
    "import matplotlib.pyplot as plt\n",
    "import matplotlib.animation as animation\n",
    "from mpl_toolkits.mplot3d import Axes3D # <--- This is important for 3d plotting \n",
    "import matplotlib.animation as manimation; manimation.writers.list()"
   ]
  },
  {
   "cell_type": "markdown",
   "metadata": {},
   "source": [
    "## Registering the actual joint positions using DH parameters:"
   ]
  },
  {
   "cell_type": "code",
   "execution_count": 7,
   "metadata": {},
   "outputs": [],
   "source": [
    "def T(d, theta, r, alpha):\n",
    "    cost = np.cos(theta)\n",
    "    sint = np.sin(theta)\n",
    "    cosa = np.cos(alpha)\n",
    "    sina = np.sin(alpha)\n",
    "    return np.array([[cost, -sint*cosa,  sint*sina, r*cost], \n",
    "                     [sint,  cost*cosa, -cost*sina, r*sint],\n",
    "                     [   0,       sina,       cosa,      d],\n",
    "                     [   0,          0,          0,      1]])\n",
    "\n",
    "def pos(T):\n",
    "    return np.array([T[0,3], T[1,3], T[2, 3]])"
   ]
  },
  {
   "cell_type": "code",
   "execution_count": 10,
   "metadata": {},
   "outputs": [
    {
     "ename": "RuntimeError",
     "evalue": "Requested MovieWriter (ffmpeg) not available",
     "output_type": "error",
     "traceback": [
      "\u001b[1;31m---------------------------------------------------------------------------\u001b[0m",
      "\u001b[1;31mKeyError\u001b[0m                                  Traceback (most recent call last)",
      "\u001b[1;32m~\\Anaconda3\\lib\\site-packages\\matplotlib\\animation.py\u001b[0m in \u001b[0;36m__getitem__\u001b[1;34m(self, name)\u001b[0m\n\u001b[0;32m    160\u001b[0m         \u001b[1;32mtry\u001b[0m\u001b[1;33m:\u001b[0m\u001b[1;33m\u001b[0m\u001b[1;33m\u001b[0m\u001b[0m\n\u001b[1;32m--> 161\u001b[1;33m             \u001b[1;32mreturn\u001b[0m \u001b[0mself\u001b[0m\u001b[1;33m.\u001b[0m\u001b[0mavail\u001b[0m\u001b[1;33m[\u001b[0m\u001b[0mname\u001b[0m\u001b[1;33m]\u001b[0m\u001b[1;33m\u001b[0m\u001b[1;33m\u001b[0m\u001b[0m\n\u001b[0m\u001b[0;32m    162\u001b[0m         \u001b[1;32mexcept\u001b[0m \u001b[0mKeyError\u001b[0m\u001b[1;33m:\u001b[0m\u001b[1;33m\u001b[0m\u001b[1;33m\u001b[0m\u001b[0m\n",
      "\u001b[1;31mKeyError\u001b[0m: 'ffmpeg'",
      "\nDuring handling of the above exception, another exception occurred:\n",
      "\u001b[1;31mRuntimeError\u001b[0m                              Traceback (most recent call last)",
      "\u001b[1;32m<ipython-input-10-2eecd82cf268>\u001b[0m in \u001b[0;36m<module>\u001b[1;34m\u001b[0m\n\u001b[0;32m     69\u001b[0m \u001b[0manim\u001b[0m \u001b[1;33m=\u001b[0m \u001b[0manimation\u001b[0m\u001b[1;33m.\u001b[0m\u001b[0mFuncAnimation\u001b[0m\u001b[1;33m(\u001b[0m\u001b[0mfig\u001b[0m\u001b[1;33m,\u001b[0m \u001b[0mrotate_base\u001b[0m\u001b[1;33m,\u001b[0m \u001b[0mframes\u001b[0m\u001b[1;33m=\u001b[0m\u001b[1;36m35\u001b[0m\u001b[1;33m,\u001b[0m \u001b[0minterval\u001b[0m\u001b[1;33m=\u001b[0m\u001b[1;36m100\u001b[0m\u001b[1;33m,\u001b[0m \u001b[0mblit\u001b[0m\u001b[1;33m=\u001b[0m\u001b[1;32mTrue\u001b[0m\u001b[1;33m)\u001b[0m\u001b[1;33m\u001b[0m\u001b[1;33m\u001b[0m\u001b[0m\n\u001b[0;32m     70\u001b[0m \u001b[1;33m\u001b[0m\u001b[0m\n\u001b[1;32m---> 71\u001b[1;33m \u001b[0mHTML\u001b[0m\u001b[1;33m(\u001b[0m\u001b[0manim\u001b[0m\u001b[1;33m.\u001b[0m\u001b[0mto_html5_video\u001b[0m\u001b[1;33m(\u001b[0m\u001b[1;33m)\u001b[0m\u001b[1;33m)\u001b[0m\u001b[1;33m\u001b[0m\u001b[1;33m\u001b[0m\u001b[0m\n\u001b[0m",
      "\u001b[1;32m~\\Anaconda3\\lib\\site-packages\\matplotlib\\animation.py\u001b[0m in \u001b[0;36mto_html5_video\u001b[1;34m(self, embed_limit)\u001b[0m\n\u001b[0;32m   1324\u001b[0m                 \u001b[1;31m# We create a writer manually so that we can get the\u001b[0m\u001b[1;33m\u001b[0m\u001b[1;33m\u001b[0m\u001b[1;33m\u001b[0m\u001b[0m\n\u001b[0;32m   1325\u001b[0m                 \u001b[1;31m# appropriate size for the tag\u001b[0m\u001b[1;33m\u001b[0m\u001b[1;33m\u001b[0m\u001b[1;33m\u001b[0m\u001b[0m\n\u001b[1;32m-> 1326\u001b[1;33m                 \u001b[0mWriter\u001b[0m \u001b[1;33m=\u001b[0m \u001b[0mwriters\u001b[0m\u001b[1;33m[\u001b[0m\u001b[0mrcParams\u001b[0m\u001b[1;33m[\u001b[0m\u001b[1;34m'animation.writer'\u001b[0m\u001b[1;33m]\u001b[0m\u001b[1;33m]\u001b[0m\u001b[1;33m\u001b[0m\u001b[1;33m\u001b[0m\u001b[0m\n\u001b[0m\u001b[0;32m   1327\u001b[0m                 writer = Writer(codec='h264',\n\u001b[0;32m   1328\u001b[0m                                 \u001b[0mbitrate\u001b[0m\u001b[1;33m=\u001b[0m\u001b[0mrcParams\u001b[0m\u001b[1;33m[\u001b[0m\u001b[1;34m'animation.bitrate'\u001b[0m\u001b[1;33m]\u001b[0m\u001b[1;33m,\u001b[0m\u001b[1;33m\u001b[0m\u001b[1;33m\u001b[0m\u001b[0m\n",
      "\u001b[1;32m~\\Anaconda3\\lib\\site-packages\\matplotlib\\animation.py\u001b[0m in \u001b[0;36m__getitem__\u001b[1;34m(self, name)\u001b[0m\n\u001b[0;32m    162\u001b[0m         \u001b[1;32mexcept\u001b[0m \u001b[0mKeyError\u001b[0m\u001b[1;33m:\u001b[0m\u001b[1;33m\u001b[0m\u001b[1;33m\u001b[0m\u001b[0m\n\u001b[0;32m    163\u001b[0m             raise RuntimeError(\n\u001b[1;32m--> 164\u001b[1;33m                 'Requested MovieWriter ({}) not available'.format(name))\n\u001b[0m\u001b[0;32m    165\u001b[0m \u001b[1;33m\u001b[0m\u001b[0m\n\u001b[0;32m    166\u001b[0m \u001b[1;33m\u001b[0m\u001b[0m\n",
      "\u001b[1;31mRuntimeError\u001b[0m: Requested MovieWriter (ffmpeg) not available"
     ]
    }
   ],
   "source": [
    "def getCurrentPos(theta_base, theta_shoulder, theta_elbow):\n",
    "    Shoulder = T(0.089159, theta_base, 0.134, np.pi/2)\n",
    "    Shoulder[0,3], Shoulder[1,3] = -Shoulder[1,3], Shoulder[0,3]\n",
    "    \n",
    "    Elbow    = T(0, -np.pi/2, -0.425, 0)\n",
    "    # Elbow    = T(0, theta_shoulder, 0.425, 0)\n",
    "    Elbow    = Shoulder @ Elbow\n",
    "    \n",
    "    Elbow2   = T(0.119, 0, 0, 0)\n",
    "    # Elbow2   = T(0.119, theta_elbow, 0, 0)\n",
    "    Elbow2   = Elbow @ Elbow2\n",
    "    \n",
    "    # Wrist1   = T(0, -np.pi/2, 0.39225, 0)\n",
    "    Wrist1   = T(0, 0, -0.39225, 0)\n",
    "    Wrist1   = Elbow2 @ Wrist1\n",
    "    \n",
    "    Wrist2   = T(0.09475, -np.pi/2, 0, np.pi/2)\n",
    "    Wrist2   = Wrist1 @ Wrist2\n",
    "    \n",
    "    Wrist3   = T(0.09475, 0, 0, -np.pi/2)\n",
    "    Wrist3   = Wrist2 @ Wrist3\n",
    "    \n",
    "    Tool   = T(0.0815, 0, 0, 0)\n",
    "    Tool     = Wrist3 @ Tool\n",
    "    \n",
    "    ShoulderPos = pos(Shoulder)\n",
    "    ElbowPos    = pos(Elbow)\n",
    "    Elbow2Pos   = pos(Elbow2)\n",
    "    Wrist1Pos   = pos(Wrist1)\n",
    "    Wrist2Pos   = pos(Wrist2)\n",
    "    Wrist3Pos   = pos(Wrist3)\n",
    "    ToolPos     = pos(Tool)\n",
    "    \n",
    "    X = np.array([0,              0, ShoulderPos[0], ElbowPos[0], Elbow2Pos[0], Wrist1Pos[0], Wrist2Pos[0], Wrist3Pos[0], ToolPos[0]])\n",
    "    Y = np.array([0,              0, ShoulderPos[1], ElbowPos[1], Elbow2Pos[1], Wrist1Pos[1], Wrist2Pos[1], Wrist3Pos[1], ToolPos[1]])\n",
    "    Z = np.array([0, ShoulderPos[2], ShoulderPos[2], ElbowPos[2], Elbow2Pos[2], Wrist1Pos[2], Wrist2Pos[2], Wrist3Pos[2], ToolPos[2]])\n",
    "    \n",
    "    return X, Y, Z\n",
    "\n",
    "self.Base           = RobotJoint(origin=None,          a=0.134,    d=0.089159, alpha=np.pi/2,  num_bytes=8, num_preceding_bytes=252, numeric_type='!d', note=\"Position (angle) of the base joint\")\n",
    "self.Shoulder       = RobotJoint(origin=self.Base,     a=-0.425,   d=0,        alpha=0,        num_bytes=8, num_preceding_bytes=260, numeric_type='!d', note=\"Position (angle) of the shoulder joint\")\n",
    "self.Elbow          = RobotJoint(origin=self.Shoulder, a=0,        d=0.119,    alpha=0,        num_bytes=8, num_preceding_bytes=268, numeric_type='!d', note=\"Position (angle) of the elbow joint\")\n",
    "self.ElbowEnd       = RobotJoint(origin=self.Elbow,    a=-0.39225, d=0,        alpha=0,        num_bytes=8, num_preceding_bytes=268, numeric_type='!d', note=\"Position (angle) of the elbow joint\")\n",
    "self.Wrist1         = RobotJoint(origin=self.ElbowEnd, a=0,        d=-0.09475, alpha=np.pi/2,  num_bytes=8, num_preceding_bytes=276, numeric_type='!d', note=\"Position (angle) of the wrist2 joint\")\n",
    "self.Wrist2         = RobotJoint(origin=self.Wrist1,   a=0,        d=0.09475,  alpha=-np.pi/2, num_bytes=8, num_preceding_bytes=284, numeric_type='!d', note=\"Position (angle) of the wrist3 joint\")\n",
    "self.Wrist3         = RobotJoint(origin=self.Wrist2,   a=0,        d=-0.0815,  alpha=0,        num_bytes=8, num_preceding_bytes=292, numeric_type='!d', note=\"Position (angle) of the wrist3 joint\")\n",
    "\n",
    "\n",
    "\n",
    "def init():\n",
    "    pass\n",
    "    \n",
    "def rotate_base(i):\n",
    "    theta_base     = 2*np.pi/17 * i\n",
    "    theta_shoulder = np.pi/2 + np.sin(np.pi/17 * i)\n",
    "    theta_elbow    = -2*np.sin(np.pi/17 * i)\n",
    "    \n",
    "    currentPosX, currentPosY, currentPosZ = getCurrentPos(theta_base, theta_shoulder, theta_elbow)\n",
    "    lines.set_data_3d(currentPosX, currentPosY, currentPosZ)\n",
    "    balls._offsets3d = (currentPosX, currentPosY, currentPosZ)\n",
    "    return (lines, balls,)\n",
    "\n",
    "\n",
    "initPosX, initPosY, initPosZ = getCurrentPos(0, np.pi/2, 0)\n",
    "\n",
    "fig = plt.figure()\n",
    "ax = plt.axes(projection='3d')\n",
    "ax.set_xlim3d(-0.5, 0.5)\n",
    "ax.set_ylim3d(-0.5, 0.5)\n",
    "ax.set_zlim3d(0, 1)\n",
    "\n",
    "lines = ax.plot3D(initPosX, initPosY, initPosZ, 'black')[0]\n",
    "balls = ax.scatter3D(initPosX, initPosY, initPosZ, c='r');\n",
    "\n",
    "plt.close()\n",
    "\n",
    "# call the animator. blit=True means only re-draw the parts that have changed.\n",
    "anim = animation.FuncAnimation(fig, rotate_base, frames=35, interval=100, blit=True)\n",
    "\n",
    "HTML(anim.to_html5_video())"
   ]
  },
  {
   "cell_type": "markdown",
   "metadata": {},
   "source": [
    "## Integrating it into the GUI\n",
    "What currently exists is:"
   ]
  },
  {
   "cell_type": "code",
   "execution_count": null,
   "metadata": {},
   "outputs": [],
   "source": [
    "# Send message to recived new information\n",
    "s.send(b\"\")\n",
    "\n",
    "# Other information\n",
    "s.recv(588)\n",
    "\n",
    "# Position\n",
    "X  = unpack('!d', bytes.fromhex(str(binascii.hexlify(s.recv(8)).decode(\"utf-8\"))))[0]\n",
    "Y  = unpack('!d', bytes.fromhex(str(binascii.hexlify(s.recv(8)).decode(\"utf-8\"))))[0]\n",
    "Z  = unpack('!d', bytes.fromhex(str(binascii.hexlify(s.recv(8)).decode(\"utf-8\"))))[0]\n",
    "RX = unpack('!d', bytes.fromhex(str(binascii.hexlify(s.recv(8)).decode(\"utf-8\"))))[0]\n",
    "RY = unpack('!d', bytes.fromhex(str(binascii.hexlify(s.recv(8)).decode(\"utf-8\"))))[0]\n",
    "RZ = unpack('!d', bytes.fromhex(str(binascii.hexlify(s.recv(8)).decode(\"utf-8\"))))[0]"
   ]
  },
  {
   "cell_type": "markdown",
   "metadata": {},
   "source": [
    "What we need to change is this: "
   ]
  },
  {
   "cell_type": "code",
   "execution_count": null,
   "metadata": {},
   "outputs": [],
   "source": [
    "# Send message to recived new information\n",
    "s.send(b\"\")\n",
    "\n",
    "# Receive angle information:\n",
    "s.recv(252)\n",
    "\n",
    "BaseAngle        = unpack('!d', bytes.fromhex(str(binascii.hexlify(s.recv(8)).decode(\"utf-8\"))))[0]\n",
    "ShoulderAngle    = unpack('!d', bytes.fromhex(str(binascii.hexlify(s.recv(8)).decode(\"utf-8\"))))[0]\n",
    "ElbowAngle       = unpack('!d', bytes.fromhex(str(binascii.hexlify(s.recv(8)).decode(\"utf-8\"))))[0]\n",
    "ElbowEndAngle    = ElbowAngle\n",
    "Wrist1Angle      = unpack('!d', bytes.fromhex(str(binascii.hexlify(s.recv(8)).decode(\"utf-8\"))))[0]\n",
    "Wrist2Angle      = unpack('!d', bytes.fromhex(str(binascii.hexlify(s.recv(8)).decode(\"utf-8\"))))[0]\n",
    "Wrist3Angle      = unpack('!d', bytes.fromhex(str(binascii.hexlify(s.recv(8)).decode(\"utf-8\"))))[0]\n",
    "\n",
    "# Other information\n",
    "s.recv(588)\n",
    "\n",
    "# Position\n",
    "X  = unpack('!d', bytes.fromhex(str(binascii.hexlify(s.recv(8)).decode(\"utf-8\"))))[0]\n",
    "Y  = unpack('!d', bytes.fromhex(str(binascii.hexlify(s.recv(8)).decode(\"utf-8\"))))[0]\n",
    "Z  = unpack('!d', bytes.fromhex(str(binascii.hexlify(s.recv(8)).decode(\"utf-8\"))))[0]\n",
    "RX = unpack('!d', bytes.fromhex(str(binascii.hexlify(s.recv(8)).decode(\"utf-8\"))))[0]\n",
    "RY = unpack('!d', bytes.fromhex(str(binascii.hexlify(s.recv(8)).decode(\"utf-8\"))))[0]\n",
    "RZ = unpack('!d', bytes.fromhex(str(binascii.hexlify(s.recv(8)).decode(\"utf-8\"))))[0]"
   ]
  }
 ],
 "metadata": {
  "kernelspec": {
   "display_name": "Python 3",
   "language": "python",
   "name": "python3"
  },
  "language_info": {
   "codemirror_mode": {
    "name": "ipython",
    "version": 3
   },
   "file_extension": ".py",
   "mimetype": "text/x-python",
   "name": "python",
   "nbconvert_exporter": "python",
   "pygments_lexer": "ipython3",
   "version": "3.7.4"
  }
 },
 "nbformat": 4,
 "nbformat_minor": 2
}
