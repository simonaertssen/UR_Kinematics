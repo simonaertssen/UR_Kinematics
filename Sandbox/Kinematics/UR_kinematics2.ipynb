{
 "cells": [
  {
   "cell_type": "code",
   "execution_count": 1,
   "metadata": {},
   "outputs": [],
   "source": [
    "import numpy as np"
   ]
  },
  {
   "cell_type": "markdown",
   "metadata": {},
   "source": [
    "# FK using DH parameters"
   ]
  },
  {
   "cell_type": "code",
   "execution_count": 2,
   "metadata": {},
   "outputs": [],
   "source": [
    "def T(d, theta, r, alpha):\n",
    "    cost = np.cos(theta)\n",
    "    sint = np.sin(theta)\n",
    "    cosa = np.cos(alpha)\n",
    "    sina = np.sin(alpha)\n",
    "    return np.array([[cost, -sint*cosa,  sint*sina, r*cost], \n",
    "                     [sint,  cost*cosa, -cost*sina, r*sint],\n",
    "                     [   0,       sina,       cosa,      d],\n",
    "                     [   0,          0,          0,      1]])\n",
    "\n",
    "def pos(T):\n",
    "    return np.array([T[0,3], T[1,3], T[2, 3]])\n",
    "\n",
    "def getRotationMatrix(ax, angle):\n",
    "    R = np.diag(np.ones(3))\n",
    "    R[0,0] = R[1,1] = np.cos(angle)\n",
    "    R[1,0] = -np.sin(angle)\n",
    "    R[0,1] = -R[1,0]\n",
    "    if ax != 2:\n",
    "        R[:,[2, ax]] = R[:,[ax, 2]]\n",
    "        R[[2, ax],:] = R[[ax, 2],:]\n",
    "        if ax == 0:\n",
    "            R = R.T\n",
    "    return R"
   ]
  },
  {
   "cell_type": "code",
   "execution_count": 3,
   "metadata": {},
   "outputs": [
    {
     "name": "stdout",
     "output_type": "stream",
     "text": [
      "[0.134 0.    0.089]\n",
      "[0.095 0.095 0.089]\n",
      "[0.    0.134 0.089]\n",
      "[-0.095  0.095  0.089]\n",
      "[-0.134  0.     0.089]\n",
      "[-0.095 -0.095  0.089]\n",
      "[-0.    -0.134  0.089]\n",
      "[ 0.095 -0.095  0.089]\n",
      "[ 0.134 -0.     0.089]\n"
     ]
    }
   ],
   "source": [
    "# Shoulder: base revolves\n",
    "# We expect a continuous height of 0.089159 mm and revolutions with a radius of 0.134 mm\n",
    "theta_base = np.linspace(0, 2*np.pi, 9)\n",
    "for theta in theta_base:\n",
    "    Shoulder = T(0.089159, theta, 0.134, np.pi/2)\n",
    "    print(np.round(pos(Shoulder), 3))"
   ]
  },
  {
   "cell_type": "code",
   "execution_count": 4,
   "metadata": {},
   "outputs": [
    {
     "name": "stdout",
     "output_type": "stream",
     "text": [
      "[0.    0.134 0.514]\n",
      "[-0.095  0.095  0.514]\n",
      "[-0.134  0.     0.514]\n",
      "[-0.095 -0.095  0.514]\n",
      "[-0.    -0.134  0.514]\n",
      "[ 0.095 -0.095  0.514]\n",
      "[ 0.134 -0.     0.514]\n",
      "[0.095 0.095 0.514]\n",
      "[0.    0.134 0.514]\n"
     ]
    }
   ],
   "source": [
    "# Elbow: base revolves\n",
    "# Elbow is 90 degrees rotated when up: we expect a height of 0.089 mm + 0.425 mm = 0.514 mm\n",
    "\n",
    "# When the elbow is at 0 degrees, we excpect the arm to extend 0.425 mm and 0.134 mm in two directions.\n",
    "# This seems not to be the case, and we need a rotation about the Z axis.\n",
    "\n",
    "theta_base = np.linspace(0,2*np.pi, 9)\n",
    "for theta in theta_base:\n",
    "    Shoulder = T(0.089159, theta, 0.134, np.pi/2)\n",
    "    Shoulder[0,3], Shoulder[1,3] = -Shoulder[1,3], Shoulder[0,3]\n",
    "    Elbow    = T(0, np.pi/2, 0.425, 0)\n",
    "    Elbow    = Shoulder @ Elbow\n",
    "    print(np.round(pos(Elbow), 3))\n"
   ]
  },
  {
   "cell_type": "code",
   "execution_count": 5,
   "metadata": {},
   "outputs": [
    {
     "name": "stdout",
     "output_type": "stream",
     "text": [
      "[0.425 0.134 0.089]\n",
      "[0.301 0.134 0.39 ]\n",
      "[0.    0.134 0.514]\n",
      "[-0.301  0.134  0.39 ]\n",
      "[-0.425  0.134  0.089]\n",
      "[-0.301  0.134 -0.211]\n",
      "[-0.     0.134 -0.336]\n",
      "[ 0.301  0.134 -0.211]\n",
      "[0.425 0.134 0.089]\n"
     ]
    }
   ],
   "source": [
    "# Elbow: shoulder revolves\n",
    "# We expect the shoulder to be stationary at (0, 0.134, 0.089) mm and the elbow to get to negative z values,\n",
    "# with a minimum at 0.089 mm - 0.425 mm = -0.336 mm while only changing X values. This appears to be correct.\n",
    "\n",
    "theta_shoulder = np.linspace(0,2*np.pi, 9)\n",
    "for theta in theta_shoulder:\n",
    "    Shoulder = T(0.089159, 0, 0.134, np.pi/2)\n",
    "    Shoulder[0,3], Shoulder[1,3] = -Shoulder[1,3], Shoulder[0,3]\n",
    "    #print(np.round(pos(Shoulder), 3))\n",
    "    Elbow    = T(0, theta, 0.425, 0)\n",
    "    Elbow    = Shoulder @ Elbow\n",
    "    print(np.round(pos(Elbow), 3))\n"
   ]
  },
  {
   "cell_type": "code",
   "execution_count": 6,
   "metadata": {},
   "outputs": [
    {
     "name": "stdout",
     "output_type": "stream",
     "text": [
      "[0.    0.015 0.514]\n",
      "[-0.011  0.011  0.514]\n",
      "[-0.015  0.     0.514]\n",
      "[-0.011 -0.011  0.514]\n",
      "[-0.    -0.015  0.514]\n",
      "[ 0.011 -0.011  0.514]\n",
      "[ 0.015 -0.     0.514]\n",
      "[0.011 0.011 0.514]\n",
      "[0.    0.015 0.514]\n"
     ]
    }
   ],
   "source": [
    "# Elbow2: base revolves\n",
    "# Elbow2 is right next to the Elbow, and should be found at always the same height value as Elbow.\n",
    "# We expect here a revolution with a radius of 0.134 mm - 0.119 mm = 0.015mm at a height of 0.514 mm.\n",
    "\n",
    "# When the Elbow is down (0 degrees) we do get results as expected. \n",
    "\n",
    "theta_base = np.linspace(0,2*np.pi, 9)\n",
    "for theta in theta_base:\n",
    "    Shoulder = T(0.089159, theta, 0.134, np.pi/2)\n",
    "    Shoulder[0,3], Shoulder[1,3] = -Shoulder[1,3], Shoulder[0,3]\n",
    "    Elbow    = T(0, np.pi/2, 0.425, 0)\n",
    "    Elbow    = Shoulder @ Elbow\n",
    "    Elbow2   = T(0.119, 0, 0, 0)\n",
    "    Elbow2   = Elbow @ Elbow2\n",
    "    print(np.round(pos(Elbow2), 3))\n"
   ]
  },
  {
   "cell_type": "code",
   "execution_count": 7,
   "metadata": {},
   "outputs": [
    {
     "name": "stdout",
     "output_type": "stream",
     "text": [
      "[0.425 0.015 0.089]\n",
      "[0.301 0.015 0.39 ]\n",
      "[0.    0.015 0.514]\n",
      "[-0.301  0.015  0.39 ]\n",
      "[-0.425  0.015  0.089]\n",
      "[-0.301  0.015 -0.211]\n",
      "[-0.     0.015 -0.336]\n",
      "[ 0.301  0.015 -0.211]\n",
      "[0.425 0.015 0.089]\n"
     ]
    }
   ],
   "source": [
    "# Elbow2: shoulder revolves\n",
    "# We expect the same as for the Elbow, though now a smaller distance from the origin away. This seems correct.\n",
    "\n",
    "theta_shoulder = np.linspace(0,2*np.pi, 9)\n",
    "for theta in theta_shoulder:\n",
    "    Shoulder = T(0.089159, 0, 0.134, np.pi/2)\n",
    "    Shoulder[0,3], Shoulder[1,3] = -Shoulder[1,3], Shoulder[0,3]\n",
    "    #print(np.round(pos(Shoulder), 3))\n",
    "    Elbow    = T(0, theta, 0.425, 0)\n",
    "    Elbow    = Shoulder @ Elbow\n",
    "    #print(np.round(pos(Elbow), 3))\n",
    "    Elbow2   = T(0.119, 0, 0, 0)\n",
    "    Elbow2   = Elbow @ Elbow2\n",
    "    print(np.round(pos(Elbow2), 3))\n"
   ]
  },
  {
   "cell_type": "code",
   "execution_count": 8,
   "metadata": {},
   "outputs": [
    {
     "name": "stdout",
     "output_type": "stream",
     "text": [
      "[0.425 0.015 0.481]\n",
      "[0.29  0.311 0.481]\n",
      "[-0.015  0.425  0.481]\n",
      "[-0.311  0.29   0.481]\n",
      "[-0.425 -0.015  0.481]\n",
      "[-0.29  -0.311  0.481]\n",
      "[ 0.015 -0.425  0.481]\n",
      "[ 0.311 -0.29   0.481]\n",
      "[0.425 0.015 0.481]\n"
     ]
    }
   ],
   "source": [
    "# Wrist1: base revolves\n",
    "# We expect the total height of the wrist to be at 0.089 mm + 0.425 mm + 0.392 mm = 0.906 mm when all arms are extended.\n",
    "# If the shoulder is rotated at 90 we expect to find the original height of 0.514 mm and an extension of 0.392 mm in one direction.\n",
    "# If the shoulder is rotated at 0 degrees and the Elbow at -90 degrees, we expect a height of 0.089 mm + 0.392 mm = 0.481 mm \n",
    "\n",
    "theta_base = np.linspace(0,2*np.pi, 9)\n",
    "for theta in theta_base:\n",
    "    Shoulder = T(0.089159, theta, 0.134, np.pi/2)\n",
    "    Shoulder[0,3], Shoulder[1,3] = -Shoulder[1,3], Shoulder[0,3]\n",
    "    Elbow    = T(0, 0, 0.425, 0)\n",
    "    Elbow    = Shoulder @ Elbow\n",
    "    Elbow2   = T(0.119, np.pi/2, 0, 0)\n",
    "    Elbow2   = Elbow @ Elbow2\n",
    "    Wrist1   = T(0, 0, 0.39225, 0)\n",
    "    Wrist1   = Elbow2 @ Wrist1\n",
    "    print(np.round(pos(Wrist1), 3))\n",
    "    \n"
   ]
  },
  {
   "cell_type": "code",
   "execution_count": 9,
   "metadata": {},
   "outputs": [],
   "source": [
    "# Wrist2:"
   ]
  },
  {
   "cell_type": "code",
   "execution_count": null,
   "metadata": {},
   "outputs": [],
   "source": []
  },
  {
   "cell_type": "markdown",
   "metadata": {},
   "source": [
    "# Drawing the robot arm:"
   ]
  },
  {
   "cell_type": "code",
   "execution_count": 10,
   "metadata": {},
   "outputs": [],
   "source": [
    "from IPython.display import HTML\n",
    "import numpy as np\n",
    "import matplotlib.pyplot as plt\n",
    "import matplotlib.animation as animation\n",
    "from mpl_toolkits.mplot3d import Axes3D # <--- This is important for 3d plotting "
   ]
  },
  {
   "cell_type": "code",
   "execution_count": 15,
   "metadata": {},
   "outputs": [
    {
     "ename": "RuntimeError",
     "evalue": "Requested MovieWriter (ffmpeg) not available",
     "output_type": "error",
     "traceback": [
      "\u001b[1;31m---------------------------------------------------------------------------\u001b[0m",
      "\u001b[1;31mKeyError\u001b[0m                                  Traceback (most recent call last)",
      "\u001b[1;32m~\\Anaconda3\\lib\\site-packages\\matplotlib\\animation.py\u001b[0m in \u001b[0;36m__getitem__\u001b[1;34m(self, name)\u001b[0m\n\u001b[0;32m    160\u001b[0m         \u001b[1;32mtry\u001b[0m\u001b[1;33m:\u001b[0m\u001b[1;33m\u001b[0m\u001b[1;33m\u001b[0m\u001b[0m\n\u001b[1;32m--> 161\u001b[1;33m             \u001b[1;32mreturn\u001b[0m \u001b[0mself\u001b[0m\u001b[1;33m.\u001b[0m\u001b[0mavail\u001b[0m\u001b[1;33m[\u001b[0m\u001b[0mname\u001b[0m\u001b[1;33m]\u001b[0m\u001b[1;33m\u001b[0m\u001b[1;33m\u001b[0m\u001b[0m\n\u001b[0m\u001b[0;32m    162\u001b[0m         \u001b[1;32mexcept\u001b[0m \u001b[0mKeyError\u001b[0m\u001b[1;33m:\u001b[0m\u001b[1;33m\u001b[0m\u001b[1;33m\u001b[0m\u001b[0m\n",
      "\u001b[1;31mKeyError\u001b[0m: 'ffmpeg'",
      "\nDuring handling of the above exception, another exception occurred:\n",
      "\u001b[1;31mRuntimeError\u001b[0m                              Traceback (most recent call last)",
      "\u001b[1;32m<ipython-input-15-a226ed91aa8b>\u001b[0m in \u001b[0;36m<module>\u001b[1;34m\u001b[0m\n\u001b[0;32m     68\u001b[0m \u001b[1;31m# call the animator. blit=True means only re-draw the parts that have changed.\u001b[0m\u001b[1;33m\u001b[0m\u001b[1;33m\u001b[0m\u001b[1;33m\u001b[0m\u001b[0m\n\u001b[0;32m     69\u001b[0m \u001b[0manim\u001b[0m \u001b[1;33m=\u001b[0m \u001b[0manimation\u001b[0m\u001b[1;33m.\u001b[0m\u001b[0mFuncAnimation\u001b[0m\u001b[1;33m(\u001b[0m\u001b[0mfig\u001b[0m\u001b[1;33m,\u001b[0m \u001b[0mrotate_base\u001b[0m\u001b[1;33m,\u001b[0m \u001b[0mframes\u001b[0m\u001b[1;33m=\u001b[0m\u001b[1;36m35\u001b[0m\u001b[1;33m,\u001b[0m \u001b[0minterval\u001b[0m\u001b[1;33m=\u001b[0m\u001b[1;36m100\u001b[0m\u001b[1;33m,\u001b[0m \u001b[0mblit\u001b[0m\u001b[1;33m=\u001b[0m\u001b[1;32mTrue\u001b[0m\u001b[1;33m)\u001b[0m\u001b[1;33m\u001b[0m\u001b[1;33m\u001b[0m\u001b[0m\n\u001b[1;32m---> 70\u001b[1;33m \u001b[0manim\u001b[0m\u001b[1;33m.\u001b[0m\u001b[0mto_html5_video\u001b[0m\u001b[1;33m(\u001b[0m\u001b[1;33m)\u001b[0m\u001b[1;33m\u001b[0m\u001b[1;33m\u001b[0m\u001b[0m\n\u001b[0m\u001b[0;32m     71\u001b[0m \u001b[0mdisplay\u001b[0m\u001b[1;33m(\u001b[0m\u001b[0mHTML\u001b[0m\u001b[1;33m(\u001b[0m\u001b[1;33m(\u001b[0m\u001b[0manim\u001b[0m\u001b[1;33m.\u001b[0m\u001b[0mto_html5_video\u001b[0m\u001b[1;33m(\u001b[0m\u001b[1;33m)\u001b[0m\u001b[1;33m)\u001b[0m\u001b[1;33m)\u001b[0m\u001b[1;33m)\u001b[0m\u001b[1;33m\u001b[0m\u001b[1;33m\u001b[0m\u001b[0m\n\u001b[0;32m     72\u001b[0m \u001b[1;33m\u001b[0m\u001b[0m\n",
      "\u001b[1;32m~\\Anaconda3\\lib\\site-packages\\matplotlib\\animation.py\u001b[0m in \u001b[0;36mto_html5_video\u001b[1;34m(self, embed_limit)\u001b[0m\n\u001b[0;32m   1324\u001b[0m                 \u001b[1;31m# We create a writer manually so that we can get the\u001b[0m\u001b[1;33m\u001b[0m\u001b[1;33m\u001b[0m\u001b[1;33m\u001b[0m\u001b[0m\n\u001b[0;32m   1325\u001b[0m                 \u001b[1;31m# appropriate size for the tag\u001b[0m\u001b[1;33m\u001b[0m\u001b[1;33m\u001b[0m\u001b[1;33m\u001b[0m\u001b[0m\n\u001b[1;32m-> 1326\u001b[1;33m                 \u001b[0mWriter\u001b[0m \u001b[1;33m=\u001b[0m \u001b[0mwriters\u001b[0m\u001b[1;33m[\u001b[0m\u001b[0mrcParams\u001b[0m\u001b[1;33m[\u001b[0m\u001b[1;34m'animation.writer'\u001b[0m\u001b[1;33m]\u001b[0m\u001b[1;33m]\u001b[0m\u001b[1;33m\u001b[0m\u001b[1;33m\u001b[0m\u001b[0m\n\u001b[0m\u001b[0;32m   1327\u001b[0m                 writer = Writer(codec='h264',\n\u001b[0;32m   1328\u001b[0m                                 \u001b[0mbitrate\u001b[0m\u001b[1;33m=\u001b[0m\u001b[0mrcParams\u001b[0m\u001b[1;33m[\u001b[0m\u001b[1;34m'animation.bitrate'\u001b[0m\u001b[1;33m]\u001b[0m\u001b[1;33m,\u001b[0m\u001b[1;33m\u001b[0m\u001b[1;33m\u001b[0m\u001b[0m\n",
      "\u001b[1;32m~\\Anaconda3\\lib\\site-packages\\matplotlib\\animation.py\u001b[0m in \u001b[0;36m__getitem__\u001b[1;34m(self, name)\u001b[0m\n\u001b[0;32m    162\u001b[0m         \u001b[1;32mexcept\u001b[0m \u001b[0mKeyError\u001b[0m\u001b[1;33m:\u001b[0m\u001b[1;33m\u001b[0m\u001b[1;33m\u001b[0m\u001b[0m\n\u001b[0;32m    163\u001b[0m             raise RuntimeError(\n\u001b[1;32m--> 164\u001b[1;33m                 'Requested MovieWriter ({}) not available'.format(name))\n\u001b[0m\u001b[0;32m    165\u001b[0m \u001b[1;33m\u001b[0m\u001b[0m\n\u001b[0;32m    166\u001b[0m \u001b[1;33m\u001b[0m\u001b[0m\n",
      "\u001b[1;31mRuntimeError\u001b[0m: Requested MovieWriter (ffmpeg) not available"
     ]
    }
   ],
   "source": [
    "def getCurrentPos(theta_base, theta_shoulder, theta_elbow):\n",
    "    Shoulder = T(0.089159, theta_base, 0.134, np.pi/2)\n",
    "    Shoulder[0,3], Shoulder[1,3] = -Shoulder[1,3], Shoulder[0,3]\n",
    "    \n",
    "    Elbow    = T(0, -np.pi/2, -0.425, 0)\n",
    "    # Elbow    = T(0, theta_shoulder, 0.425, 0)\n",
    "    Elbow    = Shoulder @ Elbow\n",
    "    \n",
    "    Elbow2   = T(0.119, 0, 0, 0)\n",
    "    # Elbow2   = T(0.119, theta_elbow, 0, 0)\n",
    "    Elbow2   = Elbow @ Elbow2\n",
    "    \n",
    "    # Wrist1   = T(0, -np.pi/2, 0.39225, 0)\n",
    "    Wrist1   = T(0, 0, -0.39225, 0)\n",
    "    Wrist1   = Elbow2 @ Wrist1\n",
    "    \n",
    "    Wrist2   = T(0.09475, -np.pi/2, 0, np.pi/2)\n",
    "    Wrist2   = Wrist1 @ Wrist2\n",
    "    \n",
    "    Wrist3   = T(0.09475, 0, 0, -np.pi/2)\n",
    "    Wrist3   = Wrist2 @ Wrist3\n",
    "    \n",
    "    Tool   = T(0.0815, 0, 0, 0)\n",
    "    Tool     = Wrist3 @ Tool\n",
    "    \n",
    "    ShoulderPos = pos(Shoulder)\n",
    "    ElbowPos    = pos(Elbow)\n",
    "    Elbow2Pos   = pos(Elbow2)\n",
    "    Wrist1Pos   = pos(Wrist1)\n",
    "    Wrist2Pos   = pos(Wrist2)\n",
    "    Wrist3Pos   = pos(Wrist3)\n",
    "    ToolPos     = pos(Tool)\n",
    "    \n",
    "    X = np.array([0,              0, ShoulderPos[0], ElbowPos[0], Elbow2Pos[0], Wrist1Pos[0], Wrist2Pos[0], Wrist3Pos[0], ToolPos[0]])\n",
    "    Y = np.array([0,              0, ShoulderPos[1], ElbowPos[1], Elbow2Pos[1], Wrist1Pos[1], Wrist2Pos[1], Wrist3Pos[1], ToolPos[1]])\n",
    "    Z = np.array([0, ShoulderPos[2], ShoulderPos[2], ElbowPos[2], Elbow2Pos[2], Wrist1Pos[2], Wrist2Pos[2], Wrist3Pos[2], ToolPos[2]])\n",
    "    \n",
    "    return X, Y, Z\n",
    "\n",
    "\n",
    "def init():\n",
    "    pass\n",
    "    \n",
    "def rotate_base(i):\n",
    "    theta_base     = 2*np.pi/17 * i\n",
    "    theta_shoulder = np.pi/2 + np.sin(np.pi/17 * i)\n",
    "    theta_elbow    = -2*np.sin(np.pi/17 * i)\n",
    "    \n",
    "    currentPosX, currentPosY, currentPosZ = getCurrentPos(theta_base, theta_shoulder, theta_elbow)\n",
    "    lines.set_data_3d(currentPosX, currentPosY, currentPosZ)\n",
    "    balls._offsets3d = (currentPosX, currentPosY, currentPosZ)\n",
    "    return (lines, balls,)\n",
    "\n",
    "\n",
    "initPosX, initPosY, initPosZ = getCurrentPos(0, np.pi/2, 0)\n",
    "\n",
    "fig = plt.figure()\n",
    "ax = plt.axes(projection='3d')\n",
    "ax.set_xlim3d(-0.5, 0.5)\n",
    "ax.set_ylim3d(-0.5, 0.5)\n",
    "ax.set_zlim3d(0, 1)\n",
    "\n",
    "lines = ax.plot3D(initPosX, initPosY, initPosZ, 'black')[0]\n",
    "balls = ax.scatter3D(initPosX, initPosY, initPosZ, c='r');\n",
    "\n",
    "plt.close()\n",
    "\n",
    "# call the animator. blit=True means only re-draw the parts that have changed.\n",
    "anim = animation.FuncAnimation(fig, rotate_base, frames=35, interval=100, blit=True)\n",
    "anim.to_html5_video()\n",
    "display(HTML((anim.to_html5_video())))\n",
    "\n"
   ]
  },
  {
   "cell_type": "code",
   "execution_count": 12,
   "metadata": {},
   "outputs": [
    {
     "data": {
      "text/html": [
       "<h1>Hello, world!</h1>"
      ],
      "text/plain": [
       "<IPython.core.display.HTML object>"
      ]
     },
     "metadata": {},
     "output_type": "display_data"
    }
   ],
   "source": [
    "from IPython.core.display import display, HTML\n",
    "'<h1>Hello, world!</h1>'))"
   ]
  },
  {
   "cell_type": "code",
   "execution_count": null,
   "metadata": {},
   "outputs": [],
   "source": [
    "# Set up formatting for the movie files\n",
    "Writer = animation.writers['ffmpeg']\n",
    "writer = Writer(fps=15, metadata=dict(artist='Me'), bitrate=1800)\n",
    "anim.save('im.mp4', writer=writer)\n"
   ]
  },
  {
   "cell_type": "markdown",
   "metadata": {},
   "source": [
    "# Drawing examples:\n"
   ]
  },
  {
   "cell_type": "code",
   "execution_count": null,
   "metadata": {},
   "outputs": [],
   "source": [
    "# https://stackoverflow.com/questions/52630340/animate-a-3d-matrix-with-matplotlib-in-jupyter-notebook\n",
    "    \n",
    "from IPython.display import HTML\n",
    "import numpy as np\n",
    "import matplotlib.pyplot as plt\n",
    "import matplotlib.animation as animation\n",
    "data = np.random.rand(100,50,50)\n",
    "\n",
    "fig, ax = plt.subplots()\n",
    "\n",
    "ax.set_xlim((0, 50))\n",
    "ax.set_ylim((0, 50))\n",
    "\n",
    "im = ax.imshow(data[0,:,:])\n",
    "\n",
    "def init():\n",
    "    im.set_data(data[0,:,:])\n",
    "    return (im,)\n",
    "\n",
    "# animation function. This is called sequentially\n",
    "def animate(i):\n",
    "    data_slice = data[i,:,:]\n",
    "    im.set_data(data_slice)\n",
    "    return (im,)\n",
    "\n",
    "plt.close()\n",
    "\n",
    "# call the animator. blit=True means only re-draw the parts that have changed.\n",
    "anim = animation.FuncAnimation(fig, animate, init_func=init,\n",
    "                               frames=5, interval=100, blit=True)\n",
    "\n",
    "HTML(anim.to_html5_video())"
   ]
  },
  {
   "cell_type": "markdown",
   "metadata": {},
   "source": [
    "# Old computations:"
   ]
  },
  {
   "cell_type": "code",
   "execution_count": null,
   "metadata": {},
   "outputs": [],
   "source": [
    "# Shoulder:\n",
    "theta_shoulder = np.linspace(0,2*np.pi, 9)\n",
    "for theta in theta_shoulder:\n",
    "    Base     = T(0.089159, 0, 0, np.pi/2)\n",
    "    Shoulder = T(0, theta, 0.134, 0)\n",
    "    Elbow    = Base @ Shoulder\n",
    "    print(np.round(pos(Elbow), 3))"
   ]
  },
  {
   "cell_type": "code",
   "execution_count": null,
   "metadata": {},
   "outputs": [],
   "source": [
    "# Elbow:\n",
    "theta_elbow = np.linspace(0,2*np.pi, 9)\n",
    "for theta in theta_elbow:\n",
    "    Base     = T(0.089159, theta, 0, np.pi/2)\n",
    "    Shoulder = T(0, 0, 0.134, 0)\n",
    "    Shoulder = Base @ Shoulder\n",
    "    print(np.round(pos(Shoulder), 3))\n",
    "    Elbow    = T(-0.425, 0, 0, 0)\n",
    "    \n",
    "    Elbow = Shoulder @ Elbow\n",
    "    print(np.round(pos(Elbow), 3), \"\\n\")"
   ]
  },
  {
   "cell_type": "markdown",
   "metadata": {},
   "source": [
    "# Using modified DH parameters:"
   ]
  },
  {
   "cell_type": "code",
   "execution_count": null,
   "metadata": {},
   "outputs": [],
   "source": [
    "def T(d, theta, r, alpha):\n",
    "    cost = np.cos(theta)\n",
    "    sint = np.sin(theta)\n",
    "    cosa = np.cos(alpha)\n",
    "    sina = np.sin(alpha)\n",
    "    return np.array([[     cost,      -sint,     0,       r], \n",
    "                     [sint*cosa,  cost*cosa, -sina, -d*sina],\n",
    "                     [sint*sina,  cost*sina,  cosa,  d*cosa],\n",
    "                     [        0,          0,     0,       1]])\n",
    "\n",
    "\n",
    "def pos(T):\n",
    "    return np.array([T[0,3], T[1,3], T[2, 3]])"
   ]
  },
  {
   "cell_type": "code",
   "execution_count": null,
   "metadata": {},
   "outputs": [],
   "source": [
    "# Base:\n",
    "theta_base = np.linspace(0, 2*np.pi, 9)\n",
    "for theta in theta_base:\n",
    "    Base = T(0.089159, theta, 0.134, np.pi/2)\n",
    "    print(np.round(pos(Base), 3))"
   ]
  },
  {
   "cell_type": "markdown",
   "metadata": {},
   "source": [
    "# Using normal rotations:\n"
   ]
  },
  {
   "cell_type": "code",
   "execution_count": null,
   "metadata": {},
   "outputs": [],
   "source": [
    "def position(offset, theta, armlength):\n",
    "    return np.array([armlength*np.cos(theta), armlength*np.sin(theta), offset])\n",
    "\n",
    "def getRotationMatrix(ax, angle):\n",
    "    R = np.diag(np.ones(3))\n",
    "    R[0,0] = R[1,1] = np.cos(angle)\n",
    "    R[1,0] = -np.sin(angle)\n",
    "    R[0,1] = -R[1,0]\n",
    "    if ax != 2:\n",
    "        R[:,[2, ax]] = R[:,[ax, 2]]\n",
    "        R[[2, ax],:] = R[[ax, 2],:]\n",
    "        if ax == 0:\n",
    "            R = R.T\n",
    "    return R"
   ]
  },
  {
   "cell_type": "code",
   "execution_count": null,
   "metadata": {},
   "outputs": [],
   "source": [
    "# Base gives Shoulder:\n",
    "theta_base = np.linspace(0,2*np.pi, 9)\n",
    "for theta in theta_base:\n",
    "    Origin = np.zeros(3)\n",
    "    Base   = position(0.089159, theta, 0.134)\n",
    "    print(np.round(Base, 3))\n"
   ]
  },
  {
   "cell_type": "code",
   "execution_count": null,
   "metadata": {},
   "outputs": [],
   "source": [
    "# Shoulder gives Elbow:\n",
    "theta_base = np.linspace(0,2*np.pi, 9)\n",
    "for theta in theta_base:\n",
    "    Base     = position(0.089159, theta, 0.134)\n",
    "    Shoulder = getRotationMatrix(1, -np.pi/2) @ position(0, 0, 0.425)\n",
    "    print(np.round(Shoulder, 3))\n"
   ]
  }
 ],
 "metadata": {
  "kernelspec": {
   "display_name": "Python 3",
   "language": "python",
   "name": "python3"
  },
  "language_info": {
   "codemirror_mode": {
    "name": "ipython",
    "version": 3
   },
   "file_extension": ".py",
   "mimetype": "text/x-python",
   "name": "python",
   "nbconvert_exporter": "python",
   "pygments_lexer": "ipython3",
   "version": "3.7.4"
  }
 },
 "nbformat": 4,
 "nbformat_minor": 2
}
